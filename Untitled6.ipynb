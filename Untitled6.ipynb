{
  "cells": [
    {
      "cell_type": "code",
      "execution_count": null,
      "metadata": {
        "colab": {
          "base_uri": "https://localhost:8080/"
        },
        "id": "gL8stEgy3KNi",
        "outputId": "ad359dab-2685-4d83-c46c-1d2a6061d8e8"
      },
      "outputs": [
        {
          "name": "stdout",
          "output_type": "stream",
          "text": [
            "Looking in indexes: https://pypi.org/simple, https://us-python.pkg.dev/colab-wheels/public/simple/\n",
            "Requirement already satisfied: biopython in /usr/local/lib/python3.7/dist-packages (1.79)\n",
            "Requirement already satisfied: numpy in /usr/local/lib/python3.7/dist-packages (from biopython) (1.21.6)\n"
          ]
        }
      ],
      "source": [
        "!pip install biopython"
      ]
    },
    {
      "cell_type": "code",
      "execution_count": null,
      "metadata": {
        "id": "_Assuo5P3NO_"
      },
      "outputs": [],
      "source": [
        "from Bio import SeqIO"
      ]
    },
    {
      "cell_type": "code",
      "execution_count": null,
      "metadata": {
        "id": "va8EyF8I3NMm"
      },
      "outputs": [],
      "source": [
        "from Bio.SeqUtils.ProtParam import ProteinAnalysis"
      ]
    },
    {
      "cell_type": "code",
      "execution_count": null,
      "metadata": {
        "colab": {
          "base_uri": "https://localhost:8080/"
        },
        "id": "OVRIqBkT3NIf",
        "outputId": "a2f5b298-c118-4d3e-fea4-e91dddca0e40"
      },
      "outputs": [
        {
          "data": {
            "text/plain": [
              "Seq('ATGGGTGTGTATGACTACAAGAACTTCGGCACAGCCGATTCCAAAGCGTTATTC...TGA')"
            ]
          },
          "execution_count": 39,
          "metadata": {},
          "output_type": "execute_result"
        }
      ],
      "source": [
        "input_seq = SeqIO.read(\"/content/sequence (2).fasta\", \"fasta\")\n",
        "input_seq.seq"
      ]
    },
    {
      "cell_type": "code",
      "execution_count": null,
      "metadata": {
        "colab": {
          "base_uri": "https://localhost:8080/",
          "height": 123
        },
        "id": "RMzofno93NF4",
        "outputId": "e50ef31b-d283-4100-b412-f91572a8504a"
      },
      "outputs": [
        {
          "data": {
            "application/vnd.google.colaboratory.intrinsic+json": {
              "type": "string"
            },
            "text/plain": [
              "'ATGGGTGTGTATGACTACAAGAACTTCGGCACAGCCGATTCCAAAGCGTTATTCACCGACGCTATGGCGATCACGCTGTATTCCTATCACAACCTCGACAATGGCTTTGCCACCGGCTACCAGCACAACGGCTTCGGCCTGGGCTTGCCGGCGACTTTGGTTACCGCGCTGCTGGGCGGCACCGACTCTCAAGGCGTGATCCCCGGCATTCCCTGGAACCCCGATTCGGAAAAAGCCGCCCTGGAGGCCGTGCAAAAAGCCGGCTGGACGCCCATCACGGCCTCGCAACTGGGTTATGACGGCAAGGTCGACGCTCGCGGAACGTTCTTCGGCGAGAAGGCCGGGTACACCAGCGCGCAGGTCGAAATCCTCGGCAAGTACGATGCTCAAGGCCATCTCAGCGAAATCGGCATCGCCTTTCGCGGCACCAGCGGCCCGCGGGAAATCTTGATCGGCGATTCCATCGGCGACGTGATCAACGATCTGCTGGCGGCGCTAGGTCCCAAGGATTATGCGAAAAACTATGTGGGTGAAGCCTTCGGCAATCTGCTCGGCGACGTCATGGCGTTTGCCCAGGCCAATGGCCTGTCGGGAAAAAACGTGCTGGTCAGCGGCCACAGCCTCGGCGGGCTGGCGGTCAACAGCCTGGCGGACTTGAGCGCGGAGAAGTGGTCCGGGTTCTACCAGGATTCCAACTACATCGCCTACGCGTCCCCGACCCAGAGCAGCACCGACAAAGTGCTCAATGTCGGCTATGAAAACGACCCGGTTTTTCGGGCTCTCGACGGTTCATCCTTCAACCTTTCGTCGGTGGGTGTGCACGATGCCGCCAAGGCCTCGGCGACCGATAACATCGTCAGCTTCAACGATCACTACGCCTCGACCGCATGGAATGTGCTGCCGTTCTCCATCCTCAACATCCCGACCTGGATCTCGCACTTGCCGACCGCCTATGGCGACGGCATGAACCGGGTGATCGAATCGAAGTTCTACGACCTCACCAGCAAGGACTCGACGATCGTCGTCGCCAATCTCTCGGACCCGGCACGCGCCAATACCTGGGTTCAGGACCTCAATCGCAACGCCGAAACCCACAAGGGCAGTACCTTCATCATCGGCAGCGACGGCAACGACCTGATTCAGGGTGGCAAGGGTAACGACTACCTGGAGGGGCGTGACGGTAACGACACCTTCCGTGACGGCGGCGGCTACAACATCGTATTGGGTGGCAAGGGCAGCAACGTGCTGGACTTGCAGCAGTCGGTGAAAAATTTCAACTTTGCCAACGATGGCGCCGGCACCCTCTATGTTCGTGACGCCAATGGCGGTATCAGCATCACCCGAGACATCGGCAGTATTGTCACCAAGGAACCGGGGTTCTTGTGGGGGCTGTTCAAGGATGATGTGACGCACAGTGTGACGGCCAATGGACTTGCCGTCGGCAACAACCTGACGTCATACGCGTCATCGGTGAAGGGCGGCACGGGGGCCGATACGCTCAAGGCGCATACGACGGGCGATTGGTTGTTCGGTCTGGACGGCAACGATCATTTGATCGGCGGCCAGGGCAACGATGTGTTTGTGGGCGGGGCGGGGAATGACCTGATGGAATCGGGGGGCGGGATTGATACGTTCCTGTTCAGCGGTGCGTTTGGTCAGGACCGGGTGGTGGGGTATCAGGCAAACGACAAGCTGGTATTCCTCGGGGTTCAGGGGGTCGCGCCGAATGATGACTATCGGGCTCATGCCACGACGGTGGGGCAGGATACGGTGCTGACGTTTGGCGGGGATTCGGTGACGTTGGTTGGGGTGGCGCTCAATAGCCTCAGTGCTGATGGAATCGTGATCGCCTGA'"
            ]
          },
          "execution_count": 40,
          "metadata": {},
          "output_type": "execute_result"
        }
      ],
      "source": [
        "extracted_seq = str(input_seq.seq)\n",
        "extracted_seq"
      ]
    },
    {
      "cell_type": "code",
      "execution_count": null,
      "metadata": {
        "colab": {
          "base_uri": "https://localhost:8080/"
        },
        "id": "YEGFQuWl3NDJ",
        "outputId": "f6a486b0-f281-4ba5-8bd1-ccea745be1e0"
      },
      "outputs": [
        {
          "name": "stdout",
          "output_type": "stream",
          "text": [
            "151474.77\n"
          ]
        }
      ],
      "source": [
        "X = ProteinAnalysis(str(extracted_seq))\n",
        "print(\"%0.2f\" % X.molecular_weight())"
      ]
    },
    {
      "cell_type": "code",
      "execution_count": null,
      "metadata": {
        "colab": {
          "base_uri": "https://localhost:8080/"
        },
        "id": "t4prZH9N3M_U",
        "outputId": "0dcdc630-5f27-4338-eb5b-68fc1137d829"
      },
      "outputs": [
        {
          "name": "stdout",
          "output_type": "stream",
          "text": [
            "0.00\n"
          ]
        }
      ],
      "source": [
        "print(\"%0.2f\" % X.aromaticity())"
      ]
    },
    {
      "cell_type": "code",
      "execution_count": null,
      "metadata": {
        "colab": {
          "base_uri": "https://localhost:8080/"
        },
        "id": "9jFvBeHa3M9P",
        "outputId": "3ebab133-8041-42a5-a11f-7cbb8832cfcf"
      },
      "outputs": [
        {
          "name": "stdout",
          "output_type": "stream",
          "text": [
            "0.00\n"
          ]
        }
      ],
      "source": [
        "print(\"%0.2f\" % X.get_amino_acids_percent()['L'])\n",
        "sec_struc = X.secondary_structure_fraction()"
      ]
    },
    {
      "cell_type": "code",
      "execution_count": null,
      "metadata": {
        "colab": {
          "base_uri": "https://localhost:8080/"
        },
        "id": "H2a95zL43M4x",
        "outputId": "8a3d7f0d-840e-4fbe-d912-dd5f57632e39"
      },
      "outputs": [
        {
          "name": "stdout",
          "output_type": "stream",
          "text": [
            "0.00\n"
          ]
        }
      ],
      "source": [
        "print(\"%0.2f\" % sec_struc[0]) #helix"
      ]
    },
    {
      "cell_type": "code",
      "execution_count": null,
      "metadata": {
        "colab": {
          "base_uri": "https://localhost:8080/"
        },
        "id": "m5Dgt_g65DGb",
        "outputId": "042751d2-0d4e-4920-89b7-98caa0d14a03"
      },
      "outputs": [
        {
          "name": "stdout",
          "output_type": "stream",
          "text": [
            "0.31\n"
          ]
        }
      ],
      "source": [
        "print(\"%0.2f\" % sec_struc[1]) #turn"
      ]
    },
    {
      "cell_type": "code",
      "execution_count": null,
      "metadata": {
        "colab": {
          "base_uri": "https://localhost:8080/"
        },
        "id": "DpySY1b75FB7",
        "outputId": "b93e8f47-3112-43a1-c2c3-7978f61a91ec"
      },
      "outputs": [
        {
          "name": "stdout",
          "output_type": "stream",
          "text": [
            "0.21\n"
          ]
        }
      ],
      "source": [
        "print(\"%0.2f\" % sec_struc[2]) #sheet"
      ]
    },
    {
      "cell_type": "code",
      "execution_count": null,
      "metadata": {
        "id": "IbkqqPUm5E_E"
      },
      "outputs": [],
      "source": [
        "psilon_prot = X.molar_extinction_coefficient()"
      ]
    },
    {
      "cell_type": "code",
      "execution_count": null,
      "metadata": {
        "colab": {
          "base_uri": "https://localhost:8080/"
        },
        "id": "_KvfMFTK5E58",
        "outputId": "afb2ba81-0e60-4712-a506-dad2bb3d06f2"
      },
      "outputs": [
        {
          "name": "stdout",
          "output_type": "stream",
          "text": [
            "0\n",
            "33000\n"
          ]
        }
      ],
      "source": [
        "epsilon_prot = X.molar_extinction_coefficient()  # [reduced, oxidized]\n",
        "print(epsilon_prot[0])  # with reduced cysteines\n",
        "print(epsilon_prot[1])  # with disulfid bridges"
      ]
    },
    {
      "cell_type": "code",
      "execution_count": null,
      "metadata": {
        "id": "ni02Mg6x5ugl"
      },
      "outputs": [],
      "source": [
        "record = SeqIO.read(\"/content/sequence (3).fasta\",\"fasta\")"
      ]
    },
    {
      "cell_type": "code",
      "execution_count": null,
      "metadata": {
        "colab": {
          "base_uri": "https://localhost:8080/"
        },
        "id": "eQhZQbvi57DN",
        "outputId": "04235684-1465-4f59-e2f6-f646f80739b7"
      },
      "outputs": [
        {
          "data": {
            "text/plain": [
              "Seq('GGGTGCATGCCAGCTCCCACCGGACACCTGGCCCGTCGCTGAAACGTGTTTTCG...GGT')"
            ]
          },
          "execution_count": 52,
          "metadata": {},
          "output_type": "execute_result"
        }
      ],
      "source": [
        "record.seq"
      ]
    },
    {
      "cell_type": "code",
      "execution_count": null,
      "metadata": {
        "id": "w9ZCSb3X6BpW"
      },
      "outputs": [],
      "source": [
        "records = [rec.reverse_complement(id=\"rc_\"+rec.id, description = \"reverse complement\") \\\n",
        "          for rec in SeqIO.parse(\"/content/sequence (3).fasta\",\"fasta\")]"
      ]
    },
    {
      "cell_type": "code",
      "execution_count": null,
      "metadata": {
        "colab": {
          "base_uri": "https://localhost:8080/"
        },
        "id": "YbbystHM6Bsf",
        "outputId": "cc0f08b2-b01a-484f-ffbb-b49e43ef9eef"
      },
      "outputs": [
        {
          "data": {
            "text/plain": [
              "1"
            ]
          },
          "execution_count": 54,
          "metadata": {},
          "output_type": "execute_result"
        }
      ],
      "source": [
        "SeqIO.write(records, \"rev_comp.fasta\", \"fasta\")"
      ]
    },
    {
      "cell_type": "code",
      "execution_count": null,
      "metadata": {
        "id": "qBpGeBGF6Bvl"
      },
      "outputs": [],
      "source": [
        "output_rev_comp = SeqIO.read(\"/content/rev_comp.fasta\",\"fasta\")"
      ]
    },
    {
      "cell_type": "code",
      "execution_count": null,
      "metadata": {
        "colab": {
          "base_uri": "https://localhost:8080/"
        },
        "id": "6NRlL3kr6RnE",
        "outputId": "951145b6-d21f-4f66-f612-101b80a6fa93"
      },
      "outputs": [
        {
          "data": {
            "text/plain": [
              "Seq('ACCGCGGGTGATCGTGGTGCAACCACCGCCACCGGTTTATTACGGGCATTGGGG...CCC')"
            ]
          },
          "execution_count": 56,
          "metadata": {},
          "output_type": "execute_result"
        }
      ],
      "source": [
        "output_rev_comp.seq"
      ]
    },
    {
      "cell_type": "code",
      "execution_count": null,
      "metadata": {
        "id": "4uxqZU9s6RkT"
      },
      "outputs": [],
      "source": [
        "def get_gene_feature_location(seq_record):\n",
        "    # Loop over the features\n",
        "    for feature in genome_record.features:\n",
        "      if feature.type == \"gene\":\n",
        "            return feature\n",
        "    # Could not find it\n",
        "    return None\n",
        "\n"
      ]
    },
    {
      "cell_type": "code",
      "execution_count": null,
      "metadata": {
        "colab": {
          "base_uri": "https://localhost:8080/"
        },
        "id": "3aA185hY6bxH",
        "outputId": "b86bbf37-fc8a-4db1-d563-985277b7606a"
      },
      "outputs": [
        {
          "name": "stdout",
          "output_type": "stream",
          "text": [
            "type: gene\n",
            "location: [0:1854](+)\n",
            "qualifiers:\n",
            "    Key: gene, Value: ['lipase']\n",
            "\n",
            "[0:1854](+)\n"
          ]
        }
      ],
      "source": [
        "from Bio.Seq import Seq\n",
        "from Bio.SeqRecord import SeqRecord\n",
        "\n",
        "in_gbk=\"/content/sequence (1).gb\"\n",
        "genome_record = SeqIO.read(\"/content/sequence (1).gb\",\"genbank\")\n",
        "gene_feature = get_gene_feature_location(genome_record)\n",
        "\n",
        "print(gene_feature)\n",
        "print(gene_feature.location)"
      ]
    },
    {
      "cell_type": "code",
      "execution_count": null,
      "metadata": {
        "colab": {
          "base_uri": "https://localhost:8080/"
        },
        "id": "wYW-3zhN9zNv",
        "outputId": "423570f9-53d4-4e02-d152-633817633ea6"
      },
      "outputs": [
        {
          "name": "stdout",
          "output_type": "stream",
          "text": [
            "> Promoter___taxon:349868___[0:1854](+)\n",
            "\n",
            "\n",
            "\n"
          ]
        }
      ],
      "source": [
        "prom_len=50\n",
        "file_out = \"prom_out.fna\"\n",
        "prom_out = \"\"   \n",
        "\n",
        "GBrecord = next(SeqIO.parse(in_gbk, \"genbank\"))\n",
        "for feature in GBrecord.features:\n",
        "    if feature.type ==\"source\":\n",
        "        db_extract = feature.qualifiers['db_xref'][0]\n",
        "        my_start = gene_feature.location._start.position # Identifies the start position of the gene on the sense strand (5' to 3' irrespective of actual coding strand).\n",
        "        my_end = gene_feature.location._end.position # Identifies the end position of the gene on the sense strand (5' to 3' irrespective of actual coding strand).\n",
        "        start_1000 = my_start - prom_len\n",
        "        end_1000 = my_end + prom_len\n",
        "        if feature.strand == -1:\n",
        "            feat_loc = str(gene_feature.location)\n",
        "            my_prom = GBrecord[my_end:end_1000].reverse_complement()\n",
        "            prom_out += \"> Promoter rev_comp\" + \"___\" + db_extract + \"___\" + feat_loc + \"\\n\"\n",
        "            prom_out += my_prom.seq.__str__() + \"\\n\\n\"\n",
        "            prom_out\n",
        "\n",
        "        elif feature.strand == 1:\n",
        "            feat_loc = str(gene_feature.location)\n",
        "            my_prom = GBrecord[start_1000:my_start]\n",
        "            prom_out += \"> Promoter\" + \"___\" + db_extract + \"___\" + feat_loc + \"\\n\"\n",
        "            prom_out += my_prom.seq.__str__()+\"\\n\\n\"\n",
        "            print(prom_out)\n",
        "\n",
        "file=open(file_out, 'w')\n",
        "file.write(prom_out)\n",
        "file.close()"
      ]
    },
    {
      "cell_type": "code",
      "execution_count": null,
      "metadata": {
        "id": "IcKaPIj4-Jc_"
      },
      "outputs": [],
      "source": [
        "tran_1 = SeqIO.read(\"/content/sequence (2).fasta\", \"fasta\")"
      ]
    },
    {
      "cell_type": "code",
      "execution_count": null,
      "metadata": {
        "colab": {
          "base_uri": "https://localhost:8080/"
        },
        "id": "XNxY-NFT-JaG",
        "outputId": "7e4e3bcd-4588-463c-fac6-c5f0fb60fc45"
      },
      "outputs": [
        {
          "data": {
            "text/plain": [
              "Seq('MGVYDYKNFGTADSKALFTDAMAITLYSYHNLDNGFATGYQHNGFGLGLPATLV...IA*')"
            ]
          },
          "execution_count": 62,
          "metadata": {},
          "output_type": "execute_result"
        }
      ],
      "source": [
        "trans_output =tran_1.translate()\n",
        "trans_output.seq"
      ]
    },
    {
      "cell_type": "code",
      "execution_count": null,
      "metadata": {
        "id": "76j-CMPs-JWn"
      },
      "outputs": [],
      "source": [
        "table = 11"
      ]
    },
    {
      "cell_type": "code",
      "execution_count": null,
      "metadata": {
        "id": "iJATsd_V-OmH"
      },
      "outputs": [],
      "source": [
        "min_pro_len = 160"
      ]
    },
    {
      "cell_type": "code",
      "execution_count": null,
      "metadata": {
        "id": "g8d2McRE-QPA"
      },
      "outputs": [],
      "source": [
        "for strand, nuc in [(+1, record.seq), (-1, record.seq.reverse_complement())]:\n",
        "    for frame in range(3):\n",
        "         length = 3 * ((len(record)-frame) // 3) #Multiple of three\n",
        "         for pro in nuc[frame:frame+length].translate(table).split(\"*\"):\n",
        "             if len(pro) >= min_pro_len:\n",
        "                 print(\"%s...%s - length %i, strand %i, frame %i\" \\\n",
        "                       % (pro[:30], pro[-3:], len(pro), strand, frame))"
      ]
    },
    {
      "cell_type": "code",
      "execution_count": null,
      "metadata": {
        "colab": {
          "base_uri": "https://localhost:8080/"
        },
        "id": "IIr76-M2-Sym",
        "outputId": "916724ba-c079-4064-e8f7-5a5079810c70"
      },
      "outputs": [
        {
          "name": "stdout",
          "output_type": "stream",
          "text": [
            "Alignment length 1854\n"
          ]
        }
      ],
      "source": [
        "from Bio import AlignIO\n",
        "alignment = AlignIO.read(\"/content/sequence (2).fasta\", \"fasta\")\n",
        "print(\"Alignment length %i\" % alignment.get_alignment_length())"
      ]
    },
    {
      "cell_type": "code",
      "execution_count": null,
      "metadata": {
        "id": "8Gx9y_m_-UVd"
      },
      "outputs": [],
      "source": [
        "from Bio import pairwise2"
      ]
    },
    {
      "cell_type": "code",
      "execution_count": null,
      "metadata": {
        "colab": {
          "base_uri": "https://localhost:8080/"
        },
        "id": "hKbcPb9M-USh",
        "outputId": "94b04033-6c42-4d4b-844a-ff813f2db0c4"
      },
      "outputs": [
        {
          "name": "stdout",
          "output_type": "stream",
          "text": [
            "AM229328.1\n",
            "Seq('ATGGGTGTGTATGACTACAAGAACTTCGGCACAGCCGATTCCAAAGCGTTATTC...TGA')\n",
            "1854\n",
            "M86350.1\n",
            "Seq('GGGTGCATGCCAGCTCCCACCGGACACCTGGCCCGTCGCTGAAACGTGTTTTCG...GGT')\n",
            "1700\n",
            "ATGGGTGTGTATGACTACAAGAACTTCGGCACAGCCGATTCCAAAGCGTTATTCACCGACGCTATGGCGATCACGCTGTATTCCTATCACAACCTCGACAATGGCTTTGCCACCGGCTACCAGCACAACGGCTTCGGCCTGGGCTTGCCGGCGACTTTGGTTACCGCGCTGCTGGGCGGCACCGACTCTCAAGGCGTGATCCCCGGCATTCCCTGGAACCCCGATTCGGAAAAAGCCGCCCTGGAGGCCGTGCAAAAAGCCGGCTGGACGCCCATCACGGCCTCGCAACTGGGTTATGACGGCAAGGTCGACGCTCGCGGAACGTTCTTCGGCGAGAAGGCCGGGTACACCAGCGCGCAGGTCGAAATCCTCGGCAAGTACGATGCTCAAGGCCATCTCAGCGAAATCGGCATCGCCTTTCGCGGCACCAGCGGCCCGCGGGAAATCTTGATCGGCGATTCCATCGGCGACGTGATCAACGATCTGCTGGCGGCGCTAGGTCCCAAGGATTATGCGAAAAACTATGTGGGTGAAGCCTTCGGCAATCTGCTCGGCGACGTCATGGCGTTTGCCCAGGCCAATGGCCTGTCGGGAAAAAACGTGCTGGTCAGCGGCCACAGCCTCGGCGGGCTGGCGGTCAACAGCCTGGCGGACTTGAGCGCGGAGAAGTGGTCCGGGTTCTACCAGGATTCCAACTACATCGCCTACGCGTCCCCGACCCAGAGCAGCACCGACAAAGTGCTCAATGTCGGCTATGAAAACGACCCGGTTTTTCGGGCTCTCGACGGTTCATCCTTCAACCTTTCGTCGGTGGGTGTGCACGATGCCGCCAAGGCCTCGGCGACCGATAACATCGTCAGCTTCAACGATCACTACGCCTCGACCGCATGGAATGTGCTGCCGTTCTCCATCCTCAACATCCCGACCTGGATCTCGCACTTGCCGACCGCCTATGGCGACGGCATGAACCGGGTGATCGAATCGAAGTTCTACGACCTCACCAGCAAGGACTCGACGATCGTCGTCGCCAATCTCTCGGACCCGGCACGCGCCAATACCTGGGTTCAGGACCTCAATCGCAACGCCGAAACCCACAAGGGCAGTACCTTCATCATCGGCAGCGACGGCAACGACCTGATTCAGGGTGGCAAGGGTAACGACTACCTGGAGGGGCGTGACGGTAACGACACCTTCCGTGACGGCGGCGGCTACAACATCGTATTGGGTGGCAAGGGCAGCAACGTGCTGGACTTGCAGCAGTCGGTGAAAAATTTCAACTTTGCCAACGATGGCGCCGGCACCCTCTATGTTCGTGACGCCAATGGCGGTATCAGCATCACCCGAGACATCGGCAGTATTGTCACCAAGGAACCGGGGTTCTTGTGGGGGCTGTTCAAGGATGATGTGACGCACAGTGTGACGGCCAATGGACTTGCCGTCGGCAACAACCTGACGTCATACGCGTCATCGGTGAAGGGCGGCACGGGGGCCGATACGCTCAAGGCGCATACGACGGGCGATTGGTTGTTCGGTCTGGACGGCAACGATCATTTGATCGGCGGCCAGGGCAACGATGTGTTTGTGGGCGGGGCGGGGAATGACCTGATGGAATCGGGGGGCGGGATTGATACGTTCCTGTTCAGCGGTGCGTTTGGTCAGGACCGGGTGGTGGGGTATCAGGCAAACGACAAGCTGGTATTCCTCGGGGTTCAGGGGGTCGCGCCGAATGATGACTATCGGGCTCATGCCACGACGGTGGGGCAGGATACGGTGCTGACGTTTGGCGGGGATTCGGTGACGTTGGTTGGGGTGGCGCTCAATAGCCTCAGTGCTGATGGAATCGTGATCGCCTGA\n",
            "GGGTGCATGCCAGCTCCCACCGGACACCTGGCCCGTCGCTGAAACGTGTTTTCGCTTTCTCTACAAATCCAACAACAGAGAGGCACTACCATGGGTATCTTTGACTATAAAAACCTTGGCACCGAGGGTTCCAAAACGTTGTTCGCCGATGCCATGGCGATCACGTTGTATTCCTATCACAACCTGGATAACGGCTTTGCCGTGGGCTACCAGCACAACGGGTTGGGCTTGGGGCTACCGGCCACGCTGGTCGGTGCGCTGCTCGGCAGCACGGATTCCCAGGGCGTGATCCCTGGCATCCCGTGGAACCCGGATTCAGAAAAAGCCGCCCTTGAGGCGGTGCAGAAAGCCGGTTGGACACCGATCAGCGCCAGTGCCCTGGGCTACGCCGGCAAGGTCGATGCACGTGGCACCTTCTTTGGGGAAAAAGCCGGCTACACCACGGCCCAGGTCGAGGTACTCGGCAAATACGATGACGCCGGCAAGCTGCTCGAAATCGGCATCGGTTTTCGTGGCACTTCGGGGCCACGGGAAACCTTGATCAGCGACTCGATCGGCGACTTGATCAGCGATCTGCTCGCGGCCCTGGGGCCCAAGGATTACGCGAAAAACTACGCCGGCGAAGCCTTCGGCGGCTTGCTCAAGAATGTTGCCGACTACGCCGGTGCCCATGGCCTGACCGGCAAGGACGTGGTGGTCAGCGGCCACAGCCTGGGCGGGCTGGCGGTCAACAGCATGGCGGACTTGAGCAACTACAAATGGGCGGGGTTCTACAAGGACGCCAACTATGTTGCCTATGCCTCGCCGACCCAGAGTGCCGGCGACAAGGTGCTCAATATCGGTTACGAAAACGACCCGGTGTTCCGCGCGCTGGACGGCTCGTCGTTTAACCTGTCGTCGCTGGGCGTGCACGACAAACCCCACGAGTCCACCACCGATAACATCGTCAGCTTCAACGACCACTACGCCTCGACGCTGTGGAATGTGCTGCCGTTTTCCATCGTCAACCTGCCCACCTGGGTCTCGCATTTGCCGACGGCGTACGGCGATGGCATGACGCGCATCCTCGAGTCCGGCTTCTACGACCAGATGACCCGTGACTCCACGGTGATTGTTGCCAACCTGTCCGATCCGGCGCGGGCCAACACCTGGGTGCAGGACCTCAACCGCAATGCCGAGCCCCACAAGGGCAACACGTTCATCATCGGCAGCGACGGCAACGACCTGATCCAGGGCGGCAACGGTGCGGACTTTATCGAGGGTGGCAAAGGCAACGACACGATCCGCGACAACAGCGGGCACAACACCTTTTTGTTCAGCGGCCACTTTGGCAATGATCGCGTGATTGGCTACCAGCCCACCGACAAACTGGTGTTCAAGGACGTGCAAGGAAGCACCGACCTGCGTGACCACGCGAAGGTGGTCGGCGCCGATACGGTGCTTACGTTTGGGGCCGACTCGGTGACGCTGGTCGGCGTGGGGCATGGCGGGCTGTGGACGGAGGGCGTGGTGATCGGCTGATTACTCACGCAACCGATCAGTGCCAGTGCTGCCCCCGCCAGCCACCGCCCCAATTGGGCCGGTGGGGGTAGCCATAGCCATAACCGTAATAGTGATGTGGGTAGTAGTAAGGGCGTGGCGCGTAGCCCCAATGCCCGTAATAAACCGGTGGCGGTGGTTGCACCACGATCACCCGCGGT\n"
          ]
        }
      ],
      "source": [
        "from Bio import SeqIO\n",
        "for seq_record_1 in SeqIO.parse(\"/content/sequence (2).fasta\", \"fasta\"):\n",
        "    print(seq_record_1.id)\n",
        "    print(repr(seq_record_1.seq))\n",
        "    print(len(seq_record_1))\n",
        "\n",
        "for seq_record_2 in SeqIO.parse(\"/content/sequence (3).fasta\", \"fasta\"):\n",
        "    print(seq_record_2.id)\n",
        "    print(repr(seq_record_2.seq))\n",
        "    print(len(seq_record_2))\n",
        "\n",
        "\n",
        "\n",
        "seq_1 = seq_record_1.seq\n",
        "print(seq_1)\n",
        "\n",
        "seq_2 = seq_record_2.seq\n",
        "print(seq_2)"
      ]
    },
    {
      "cell_type": "code",
      "execution_count": null,
      "metadata": {
        "id": "wLzhknYm-UPP"
      },
      "outputs": [],
      "source": [
        "alignments = pairwise2.align.globalxx(seq_1,seq_2)\n",
        "from Bio.pairwise2 import format_alignment"
      ]
    },
    {
      "cell_type": "code",
      "execution_count": null,
      "metadata": {
        "colab": {
          "base_uri": "https://localhost:8080/"
        },
        "id": "ZyhnOBwd-Y7Z",
        "outputId": "c4e06ef9-57b5-4b7b-c09f-8eb90aea8330"
      },
      "outputs": [
        {
          "name": "stdout",
          "output_type": "stream",
          "text": [
            "------ATG---G--------G------TG-----T-G-T-A----TG--------------AC---T--A-CAA--GA-A--CT--T-C---GG----C----AC-A----------G-C-C-GA---TTCCAAAG-CGTTA-TTCA-CCGAC-GCT-ATGGCGATCACGCT-GTATTCCTATCACAACCTCG-AC-AAT-GGCTTTGCCACCG-G--CTACCAGCACAACGGC-TTCGGC-CT-GGG-CTTG-CCGGCG-ACTT--TGGTTACCG---CGCTGCTGGGCGGCA-C-CG-ACTCTCA--AGG-CGTGATCCCC-GGCATTCCC-TGGAACCCCG-ATTCG-GAAAAAGCCGCCCTG-GAGGCCG-TGCAA-AAAGCCGGCT-GGACGC-CC-ATCACG-GCC--TCGCAAC-TGGGT-TAT-GAC-GGCAAGGTCGAC-GCT-CGC-GGA-ACG-TTCTTC-GGCGAGAAG---GCCGGG-TACACCAGCGCGC--AGGTCGAAA--TC-CTCGGCAAG-TACGATG-CT-CAA-GGCCAT--CTCAGC--GAAATCGGCATCGCC-TTT-CGC-GGCAC--CAGCGGC-CCG-CGGGAAATC-TTGATCG-GCGATTC-C-ATCGGCGACGT-GATCAA-CGATCTGCTG-GCGGCGC-TAGGT--CCCAAGGATTAT-GCGAAAAACTATGT-G--GGT-GAAGCCTTCGGCAAT--CT-GCTCGGCGAC-GTCA-TGGCGTTTGCC--C-A-G--G---CCA-ATGGCCTGT-CG-GGAAA-AA--ACGTGC-TGGTCAGCGGCCACAGCCTCGG-CGGGCTGGCGGTCAACAGCC-TGGCGGACTTGAGCG--CGG-AG-AAG-TGGTC-CGGG-TTCTACCA-GGATTC-C-AACTACATCG---CCTAC-GCGTC-C-CCGACCCAGAGCA-GCAC--CGACAAAG-TGCTCAATG-TCGGCTAT--GAAAACGACCCGGTTT-TTCG-G-GCT-CTCG-ACGGTTCATC--C-TTC-AACCTT-TCGTCGG-TGGGT-GTGCACGATGC---CGCCA-A-G-G-CCT-CGGCGACCGATAACATCGTCAGCTTCAACGATC-ACTACGCCTCGACCGCATG-G-AATGTGCTGCCGTTCT-CCATCC-TCAACA-T-CCCGACCTGGA-TCTCGCACTT-GCCGACCGC-C-TAT-GGCGAC-GGCATGAACCGGGT-G-ATC---GAA-TC-GAAG-TTCTACGACC---TC-ACCAGCAAG-GACTCG-ACGA-TCG-TC-GTC-GCCAATCTCTCG---GAC-CCGGCACGCG--CCAAT-ACCTGGGTT-CAGGACCTCAATC-GCAAC-GCCGAAA-CCC-ACAAGGGCAGTAC-C-TTCATCATCGGCAGCGACGGCAACGACCTGATTC-AGGGT-GGCAAG-GGTAA-CG-ACT--ACCTG-GAGGGGCGTGA-C---GGT-AACGACACCT--TCCGT-GACGG--CG-GCGG-CTACAACATCG-TATTGGGTG-G--CAAG-GGCAGCAACGTGCTGGACTTGCAGCA--G-TCG-GTGAAAAATTTCAACTTTGC-CA-ACGATGGC-GCCGGCACC--CT---CTA--TGTTC--GTGACGCCAATGGC--GGTATCAGCATCACCCGAGACATCG-GCAGTATTGTCACCAA-G-GAACCGG-GGTTCTTGTGGGGGCTGTTCAAGGAT-GATGTGACGCACAGTG-TG-ACGGCCAATGGACTTGCCGTCGGCAACA-AC-C--TGACGTCATACGCGTCATCGGTGAA-G-GGCGGCAC-GG-GGGCCGATACGCTCAAGGCGCATACG-ACGGGCGATTGGTTGT-TCGGTCTGGA---CGG-CAACGATCATTTGATCGGCGGC--CAGG-GCAACGATGTGTTTG-TGGGCGGGGCGGGGAATGACCTGATGGAATCGGGGGGCGGG-ATTGATACGTTC-CTGTTCAGCGGTGCGT----TTGGTCAGGACCGGGTGGTGGGGTAT-C-AG--GC-A-AAC-G-ACA-AGCTGGTATTCCTCG-GGGT--TCAG---GGG-GTCGCGC-CGAATGATGACTATCGGGCTCA-TGCCACGACGGTGGGGCAGGATACGGTGCTGACGTTTGGCGGGGATTCGGTGACGTTGGTTGG-GGTGGCGCTCAATAGC-CTCAGTGCTGATGGAATCGTGATCGCCTGA----\n",
            "      |||   |        |      ||     | | | |    ||              ||   |  | |||  || |  |   | |   ||    |    || |          | | | ||   |||||||  ||||  |||  ||||  ||  |||||||||||| | |||||||||||||||||| | |  ||  |||||||   ||| |  |||||||||||||||  || ||  || ||| | |  |||||  ||    ||| |  ||   |||||||   ||||| | || | | ||   ||| |||||| ||| |||| |||| ||||| |||| ||||  ||||||||||||||  |||| || ||| | |||||||| | |||  | || |||| | |||  | ||  | ||||  ||  | | |||||||||||  ||  ||  ||  ||  |||||  || | |||    ||| || ||||||| || ||  ||||||  |  |  ||||||||  ||||||| |  |   || ||   ||  ||  |||||||||||||   ||| ||  |||||  | | ||  ||  ||||||| | ||||||  ||||  | | ||||||||| | |||| | |||||||||  ||||| | | ||   |||||||||||  |||||||||||    |  ||  ||||||||||||     || |||   | |  |  | |   | |||||  | | |  |   ||  ||||||||  |  ||    ||  |||||  ||||||||||||||||||| || |||||||||||||||||| | ||||||||||||||   |   |  ||  |||   |||| ||||| || |||  | | ||||  || |   ||||  ||  | | |||||||||||   || |  |||| ||| ||||||||  |||| | |  |||||||||||||  | |||  | ||  || | ||||  | ||  | ||  |||| | ||||| | ||||  ||||||||  |   | ||  | | | ||  |  | |||||||||||||||||||||||||| | |||||||||||| ||| || | |||||||||||||| | |||| | |||||  | ||| ||||||  ||||||| || ||||| ||  | ||  |||||  |||||| | |  |  | |||   | | || |  | ||||||||||   |  |||  |  | |||||  |||  | | |  ||  ||||| | || |   ||  ||||  ||||  ||||  ||||||| | ||||||||||| | ||||  ||||  | ||| |||||||||  || | ||||||||||||||||||||||||||||||| || ||||  |||||  |||   || |||  |  |  ||  || |||  |   ||  ||||||| |   ||||  |||    |  |||| | |||||| |  | ||   |  |  | || |||  | |    ||    |||  |||  | ||| |||          |  |||  |  ||     | |||  ||||  |    ||   |||||  | ||||    | ||  || |  ||   || ||  |||  |  || |   ||  ||| | | |||  || || ||       ||| |  |       ||  | |||    ||| |  || |    |    |||  |  |||  |  || |  ||||| | |  | |   || | |   | || ||||  || ||| |  |  | |    | |   ||| | |||||  ||| ||  |||| || ||   |   | |||  ||    | |  | |   || | ||  | |   |  || |  ||    |         ||         |     ||    |  |   |   | |    | ||    |      || |   || || ||| | ||||||  | |   || | ||| | | | || | | |    | | ||||  | ||   ||| || | || ||  | | | |   |   | || || | |  | ||     |  |||        |            |  |     |   || ||| ||| | | |   | || | ||   |     | |||   | | || |     \n",
            "GGGTGCATGCCAGCTCCCACCGGACACCTGGCCCGTCGCTGAAACGTGTTTTCGCTTTCTCTACAAATCCAACAACAGAGAGGC-ACTACCATGGGTATCTTTGACTATAAAAACCTTGGCACCGAGGGTTCCAAA-ACGTT-GTTC-GCCGA-TGC-CATGGCGATCACG-TTGTATTCCTATCACAACCT-GGA-TAA-CGGCTTTG---CCGTGGGCTACCAGCACAACGG-GTT-GG-GCTTGGGGC-T-ACCGGC-CAC--GCTGG-T--CGGTGCGCTGCT---CGGCAGCACGGA-T-TC-CCAGGGCGTGAT-CCCTGGCA-TCCCGTGGAA-CCCGGATTC-AGAAAAAGCCGCCCT-TGAGG-CGGTGC-AGAAAGCCGG-TTGGA--CACCGATCA-GCGCCAGT-GC--CCTGGG-CTA-CG-CCGGCAAGGTCGA-TGC-ACG-TGG-CAC-CTTCTT-TGG-G-GAA-AAAGCC-GGCTACACCA-CG-GCCCAGGTCG--AGGT-ACTCGGCAA-ATACGATGAC-GC--CGG-CA-AGCT--GCTCGAAATCGGCATCG--GTTTTCG-TGGCACTTC-G-GG-GCC-ACGGGAAA-CCTTGATC-AGCGA--CTCGATCGGCGAC-TTGATC-AGCGATCTGCT-CGCGGC-CCT-GG-GGCCCAAGGATTA-CGCGAAAAACTA---CGCCGG-CGAAGCCTTCGGC---GGCTTGCT---C-A-AG--AAT---G-TTGCCGACTACGCCGGTGCC-CATGGCCTG-AC-CGG---CAAGGACGTG-GTGGTCAGCGGCCACAGCCT-GGGCGGGCTGGCGGTCAACAG-CATGGCGGACTTGAGC-AAC--TA-CAA-ATGG--GCGGGGTTCTA-CAAGGA--CGCCAACT--AT-GTTGCCTA-TGC--CTCGCCGACCCAGAG--TGC-CGGCGAC-AAGGTGCTCAAT-ATCGG-T-TACGAAAACGACCCGG--TGTTC-CGCGC-GCT-GGACGG--C-TCGTCGTT-TAACC-TGTCGTC-GCTGGG-CGTGCACGA--CAAAC-CC-CACGAGTCC-AC--C-ACCGATAACATCGTCAGCTTCAACGA-CCACTACGCCTCGA-CGC-TGTGGAATGTGCTGCCGTT-TTCCAT-CGTCAAC-CTGCCC-ACCTGG-GTCTCGCA-TTTGCCGA-CG-GCGTA-CGGCGA-TGGCATG-A-C--G-CGCATCCTCG-AGTCCG--GCTTCTACGACCAGAT-GACC--C--GTGACTC-CACG-GT-GAT-TGT-TGCCAA-C-CT-GTCCGA-TCCGG--CGCGGGCCAA-CACCTGGG-TGCAGGACCTCAA-CCGCAA-TGCCG--AGCCCCACAAGGGCA--ACACGTTCATCATCGGCAGCGACGGCAACGACCTGA-TCCAGGG-CGGCAA-CGGT--GCGGACTTTA--T-CGA--GG-GTG-GCAAAGG-CAACGACA-C-GATCCG-CGAC--AAC-AGCGGGC-ACAACA-C-CT-TT---T-TGTTC-AGCGGC--C-A----CT----TTG--GCAATGATCGCGTG----------A--TTG-GC-TAC-----CAGCC--CACCGAC-AAACT-GGTGTTCAAG-GACG----T-GCAAGG-A--AG---CA-CC--GAC--C-TGC-G---TG--ACC-ACGCGAA--GGTGG-TC-------GGC-G--C------CGA--T-ACG----GTGCT-TAC-G----T----TTG--G--GGC--C-GACTCGGTGACG-C-T--G-G---TC-G-G--CGTGG-GGCA-TGGCGGG-C--T--G-T----G-G---ACGGA-GGGCG--TGG-TG-ATCGG-CT-GATTAC--TC-ACG--CA----A-C--C-G-ATCA-GTGC--C-A---G--TGCT--GC----C---------CC---------C-----GC---CA--G---C---CAC----C-GC----C--CCAATT-G---GG-CC-GGT-G-GGGGTA-GCCA-TAGCCATAACCGTA-ATAG-T-G-A----T-GTGGGTAGT-AGTAAGGGCGT-G-GCGCG--T-A-G-C---C---C-CAATG-C-C--C-GT-----A--ATA--------A------------A--C-----C---GG-TGGCGGT-G-G-T---T-GCAC-CA---C-----G-ATC---A-C-CC-G-CGGT\n",
            "  Score=1309\n",
            "\n"
          ]
        }
      ],
      "source": [
        "print(format_alignment(*alignments[0]))\n"
      ]
    },
    {
      "cell_type": "code",
      "execution_count": null,
      "metadata": {
        "colab": {
          "background_save": true,
          "base_uri": "https://localhost:8080/"
        },
        "id": "-CkSqyur-Y4h",
        "outputId": "261f9f7f-4336-4863-b99d-25509ea80ce3"
      },
      "outputs": [],
      "source": [
        "from Bio import Align\n",
        "from Bio.Seq import Seq\n",
        "# Import libraries\n",
        "\n",
        "# Creating sample sequences\n",
        "seq11 = Seq(\"TGTGACTA\")\n",
        "seq12 = Seq(\"CATGGTCA\")\n",
        "\n",
        "# Calling method\n",
        "aligner = Align.PairwiseAligner()\n",
        "\n",
        "\n",
        "# Finding similarities\n",
        "alignments = aligner.align(seq_1, seq_2)\n",
        "\n",
        "# Showing results\n",
        "for alignment in alignments:\n",
        "\tprint(alignment)"
      ]
    },
    {
      "cell_type": "code",
      "execution_count": null,
      "metadata": {
        "id": "cYDB-c_c-Y17"
      },
      "outputs": [],
      "source": []
    }
  ],
  "metadata": {
    "colab": {
      "provenance": []
    },
    "kernelspec": {
      "display_name": "Python 3",
      "name": "python3"
    },
    "language_info": {
      "name": "python"
    }
  },
  "nbformat": 4,
  "nbformat_minor": 0
}